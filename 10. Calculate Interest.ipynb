{
 "cells": [
  {
   "cell_type": "code",
   "execution_count": 7,
   "metadata": {},
   "outputs": [
    {
     "name": "stdout",
     "output_type": "stream",
     "text": [
      "Please enter principal amount: 10000\n",
      "Please Enter Rate of interest in %: 10\n",
      "Enter number of years for investment:5\n",
      "After 5.0  years your principal amount 10000.0 over an interest rate of 10.0  % will be 16105.100000000006\n"
     ]
    }
   ],
   "source": [
    "try:\n",
    "    principalAmount = float(input(\"Please enter principal amount: \"))\n",
    "    interest = float(input(\"Please Enter Rate of interest in %: \"))\n",
    "    yearsforinvestment = float(input(\"Enter number of years for investment:\"))\n",
    "    rate = interest/100\n",
    "    print(\"After \" + str(yearsforinvestment) + \"  years your principal amount \" + str(principalAmount) + \n",
    "          \" over an interest rate of \" + str(interest) + \"  % will be \" +\n",
    "          str(principalAmount * (1 + rate )**yearsforinvestment))\n",
    "except ValueError:\n",
    "    print(\"please enter the correct value!\")"
   ]
  },
  {
   "cell_type": "code",
   "execution_count": null,
   "metadata": {},
   "outputs": [],
   "source": []
  }
 ],
 "metadata": {
  "kernelspec": {
   "display_name": "Python 3",
   "language": "python",
   "name": "python3"
  },
  "language_info": {
   "codemirror_mode": {
    "name": "ipython",
    "version": 3
   },
   "file_extension": ".py",
   "mimetype": "text/x-python",
   "name": "python",
   "nbconvert_exporter": "python",
   "pygments_lexer": "ipython3",
   "version": "3.6.5"
  }
 },
 "nbformat": 4,
 "nbformat_minor": 2
}
