{
 "cells": [
  {
   "cell_type": "code",
   "execution_count": 2,
   "metadata": {},
   "outputs": [
    {
     "name": "stdout",
     "output_type": "stream",
     "text": [
      "please enter comma seperated html file name: eg; file1.html,file2.html \n",
      "examplehtml.html\n",
      "Tags Parsing of file examplehtml.html :\n",
      "\n",
      " Opening tags dictionary : {'html': 1, 'head': 1, 'title': 1, 'style': 1, 'body': 1, 'h1': 1, 'p': 3, 'a': 1}\n",
      "\n",
      " Closing tags dictionary : {'title': 1, 'style': 1, 'head': 1, 'h1': 1, 'p': 3, 'a': 1, 'body': 1, 'html': 1}\n"
     ]
    }
   ],
   "source": [
    "from html.parser import HTMLParser\n",
    "import os\n",
    "import sys\n",
    "\n",
    "dictionarTags ={}\n",
    "dictionaryCloseTags ={}\n",
    "class MyHTMLParser(HTMLParser):\n",
    "    def handle_starttag(self, tag, attrs):\n",
    "        #print(\"Encountered a start tag:\", tag)\n",
    "        if tag not in dictionarTags:\n",
    "            dictionarTags[tag] = 1\n",
    "        else:\n",
    "            dictionarTags[tag]  +=1    \n",
    "    def display (self):  \n",
    "        print(\"\\n Opening tags dictionary : {}\".format(dictionarTags))\n",
    "        print(\"\\n Closing tags dictionary : {}\".format(dictionaryCloseTags))\n",
    "    def handle_endtag(self, tag):\n",
    "        if tag not in dictionaryCloseTags:\n",
    "            dictionaryCloseTags[tag] = 1\n",
    "        else:\n",
    "            dictionaryCloseTags[tag]  +=1 \n",
    "\n",
    "    #def handle_data(self, data):\n",
    "     #   if data not in dictionarTags:\n",
    "      #      dictionarTags[data] = 1\n",
    "       # else:\n",
    "        #    dictionarTags[data]  +=1 \n",
    "        \n",
    "fileNames = list(input(\"please enter comma seperated html file name: eg; file1.html,file2.html \\n\").split(','))\n",
    "#print(fileNames)\n",
    "for fileName in fileNames:\n",
    "    if os.path.isfile(fileName) is True:\n",
    "        parser = MyHTMLParser()\n",
    "        f = open(fileName, 'r')\n",
    "        data = f.read()\n",
    "        #print(type(data))\n",
    "        print(\"Tags Parsing of file {} :\".format(fileName))\n",
    "        parser.feed(data)\n",
    "        parser.display() \n",
    "        dictionarTags ={}\n",
    "    else :\n",
    "        print(fileName, \"Not exists\")"
   ]
  },
  {
   "cell_type": "code",
   "execution_count": 4,
   "metadata": {},
   "outputs": [
    {
     "name": "stdout",
     "output_type": "stream",
     "text": [
      "please enter comma seperated file name: eg; file1.txt,file2.txt \n",
      "MARKSHEET.txt\n",
      "Details of the file MARKSHEET.txt is given below:\n",
      "\n",
      " Spaces 49 \n",
      " tabs 42 \n",
      " lines 17 \n",
      " words 39 \n",
      " non space chracters 650\n",
      "paragraphcount 1 \n",
      "\n"
     ]
    }
   ],
   "source": [
    "import os\n",
    "import sys\n",
    "\n",
    "def insert_line_para_nums(infile):\n",
    "    f = open(infile, 'r')\n",
    "    linecount = 0\n",
    "    paragraphcount = 0\n",
    "    empty = True\n",
    "    for i in f:\n",
    "        if '\\n' in i:\n",
    "            linecount += 1\n",
    "            if len(i) < 2:\n",
    "                empty = True\n",
    "            elif len(i) > 2 and empty is True:\n",
    "                paragraphcount = paragraphcount + 1\n",
    "                empty = False\n",
    "    f.close()\n",
    "    print(\"paragraphcount {} \\n\".format(paragraphcount))\n",
    "\n",
    "\n",
    "def parse_file(path):\n",
    "\n",
    "    fd = open(path,'r')\n",
    "    spaces = tabs = words = num_lines = Total_chracters = special_chracter = 0\n",
    "    lines_in_file = fd.read()\n",
    "    Total_chracters = len(lines_in_file)\n",
    "    words = len(lines_in_file.split())\n",
    "    num_lines = lines_in_file.count('\\n') +1\n",
    "    #print ( \"Number of Words: \", num_lines )\n",
    "    tabs = len(lines_in_file.split('\\t')) -1\n",
    "    spaces = len(lines_in_file.split(' ')) -1\n",
    "    special_chracter = Total_chracters - spaces - tabs\n",
    "    #print ( \"Number of SC: \", special_chracter)\n",
    "    #print ( \"Number of spaces: \", spaces - tabs * 2)\n",
    "    #for i,line in enumerate(fd):\n",
    "        #spaces += line.count(' ')\n",
    "        #tabs += line.count('  ')\n",
    "    #Now close the open file\n",
    "    fd.close()\n",
    "\n",
    "    #Return the result as a tuple\n",
    "    return spaces , tabs,num_lines,words,special_chracter\n",
    "    \n",
    "\n",
    "\n",
    "fileNames = list(input(\"please enter comma seperated file name: eg; file1.txt,file2.txt \\n\").split(','))\n",
    "#print(fileNames)\n",
    "for fileName in fileNames:\n",
    "    if os.path.isfile(fileName) is True:\n",
    "        \n",
    "        spaces, tabs, lines,words,special_chracter = parse_file(fileName)\n",
    "        print(\"Details of the file {} is given below:\".format(fileName))\n",
    "        print (\"\\n Spaces {} \\n tabs {} \\n lines {} \\n words {} \\n non space chracters {}\".format (spaces, tabs, lines,words,special_chracter))\n",
    "        insert_line_para_nums(fileName)    \n",
    "    else :\n",
    "        print(fileName, \"Not exists\")"
   ]
  },
  {
   "cell_type": "code",
   "execution_count": null,
   "metadata": {},
   "outputs": [],
   "source": []
  }
 ],
 "metadata": {
  "kernelspec": {
   "display_name": "Python 3",
   "language": "python",
   "name": "python3"
  },
  "language_info": {
   "codemirror_mode": {
    "name": "ipython",
    "version": 3
   },
   "file_extension": ".py",
   "mimetype": "text/x-python",
   "name": "python",
   "nbconvert_exporter": "python",
   "pygments_lexer": "ipython3",
   "version": "3.6.5"
  }
 },
 "nbformat": 4,
 "nbformat_minor": 2
}
