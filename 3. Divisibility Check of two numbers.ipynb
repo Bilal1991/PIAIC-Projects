{
 "cells": [
  {
   "cell_type": "code",
   "execution_count": 7,
   "metadata": {},
   "outputs": [
    {
     "name": "stdout",
     "output_type": "stream",
     "text": [
      "Enter numerator 2.4\n",
      "Enter denominator 1.2\n",
      "please enter the correct value!\n"
     ]
    }
   ],
   "source": [
    "numerator = input(\"Enter numerator \")\n",
    "denominator = input(\"Enter denominator \")\n",
    "try:\n",
    "    numerator = int(numerator)\n",
    "    denominator = int(denominator)\n",
    "    if numerator%denominator ==0:\n",
    "        print(\"Number \" + str(numerator) + \" is divisible by \" + str(denominator))\n",
    "except ValueError:\n",
    "    print(\"please enter the correct value!\")"
   ]
  },
  {
   "cell_type": "code",
   "execution_count": null,
   "metadata": {},
   "outputs": [],
   "source": []
  }
 ],
 "metadata": {
  "kernelspec": {
   "display_name": "Python 3",
   "language": "python",
   "name": "python3"
  },
  "language_info": {
   "codemirror_mode": {
    "name": "ipython",
    "version": 3
   },
   "file_extension": ".py",
   "mimetype": "text/x-python",
   "name": "python",
   "nbconvert_exporter": "python",
   "pygments_lexer": "ipython3",
   "version": "3.6.5"
  }
 },
 "nbformat": 4,
 "nbformat_minor": 2
}
