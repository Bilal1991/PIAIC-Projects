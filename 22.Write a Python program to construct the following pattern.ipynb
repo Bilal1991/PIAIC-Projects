{
 "cells": [
  {
   "cell_type": "code",
   "execution_count": 11,
   "metadata": {},
   "outputs": [
    {
     "name": "stdout",
     "output_type": "stream",
     "text": [
      "Enter max star to be display on single line5\n",
      "1 \n",
      "1 2 \n",
      "1 2 3 \n",
      "1 2 3 4 \n",
      "1 2 3 4 5 \n",
      "1 2 3 4 \n",
      "1 2 3 \n",
      "1 2 \n",
      "1 \n",
      "\n",
      "\n"
     ]
    }
   ],
   "source": [
    "rows = input(\"Enter max star to be display on single line: \")\n",
    "rows = int (rows)\n",
    "for i in range (1, rows+1):\n",
    "    for j in range(1, i + 1):\n",
    "        print(j, end=' ')\n",
    "    print(\"\\r\")\n",
    "for i in range (rows+1, 0, -1):\n",
    "    for j in range(1, i -1):\n",
    "        print(j, end=' ')\n",
    "    print(\"\\r\")"
   ]
  },
  {
   "cell_type": "code",
   "execution_count": null,
   "metadata": {},
   "outputs": [],
   "source": []
  }
 ],
 "metadata": {
  "kernelspec": {
   "display_name": "Python 3",
   "language": "python",
   "name": "python3"
  },
  "language_info": {
   "codemirror_mode": {
    "name": "ipython",
    "version": 3
   },
   "file_extension": ".py",
   "mimetype": "text/x-python",
   "name": "python",
   "nbconvert_exporter": "python",
   "pygments_lexer": "ipython3",
   "version": "3.6.5"
  }
 },
 "nbformat": 4,
 "nbformat_minor": 2
}
