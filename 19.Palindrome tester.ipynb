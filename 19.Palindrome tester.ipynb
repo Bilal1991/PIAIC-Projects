{
 "cells": [
  {
   "cell_type": "code",
   "execution_count": 4,
   "metadata": {},
   "outputs": [
    {
     "name": "stdout",
     "output_type": "stream",
     "text": [
      "Enter text: 151\n",
      "Text 151 is Palindrome\n"
     ]
    }
   ],
   "source": [
    "OriginalSentence = input(\"Enter text: \")\n",
    "OriginalSentence = OriginalSentence.lower()\n",
    "ReverseSentence = OriginalSentence[::-1]\n",
    "if OriginalSentence == ReverseSentence:\n",
    "    print(\"Text \" + OriginalSentence + \" is Palindrome\")\n",
    "else:\n",
    "     print(\"Text \" + OriginalSentence + \" is not Palindrome\")"
   ]
  },
  {
   "cell_type": "code",
   "execution_count": null,
   "metadata": {},
   "outputs": [],
   "source": []
  }
 ],
 "metadata": {
  "kernelspec": {
   "display_name": "Python 3",
   "language": "python",
   "name": "python3"
  },
  "language_info": {
   "codemirror_mode": {
    "name": "ipython",
    "version": 3
   },
   "file_extension": ".py",
   "mimetype": "text/x-python",
   "name": "python",
   "nbconvert_exporter": "python",
   "pygments_lexer": "ipython3",
   "version": "3.6.5"
  }
 },
 "nbformat": 4,
 "nbformat_minor": 2
}
