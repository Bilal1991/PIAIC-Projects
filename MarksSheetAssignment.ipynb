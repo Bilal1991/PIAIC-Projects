{
 "cells": [
  {
   "cell_type": "code",
   "execution_count": 1,
   "metadata": {},
   "outputs": [
    {
     "name": "stdout",
     "output_type": "stream",
     "text": [
      "========= Program to print mark Sheet=========\n",
      "Enter subjects name: Maths\n",
      "Enter Subjects marks: 97\n",
      "Do you want to add more subjects and marks? type yes/no \n",
      "yes\n",
      "Enter subjects name: Physics\n",
      "Enter Subjects marks: 94\n",
      "Do you want to add more subjects and marks? type yes/no \n",
      "yes\n",
      "Enter subjects name: English\n",
      "Enter Subjects marks: 67\n",
      "Do you want to add more subjects and marks? type yes/no \n",
      "yes\n",
      "Enter subjects name: Computer Science\n",
      "Enter Subjects marks: 100\n",
      "Do you want to add more subjects and marks? type yes/no \n",
      "d\n",
      "\t \t \t*********** MARKSHEET **********\n",
      "\t \t \t================================\n",
      "\t||\t SUBJECT \t ||\t MARKS \t ||\n",
      "___________________________________________________________________\n",
      "\t||\t MATHS \t || \t 97 \t\n",
      "___________________________________________________________________\n",
      "\t||\t PHYSICS \t || \t 94 \t\n",
      "___________________________________________________________________\n",
      "\t||\t ENGLISH \t || \t 67 \t\n",
      "___________________________________________________________________\n",
      "\t||\t COMPUTER SCIENCE \t || \t 100 \t\n",
      "___________________________________________________________________\n",
      "\t \tPercentage \t \t \t \t 89.5%\n",
      "___________________________________________________________________\n",
      "\n"
     ]
    }
   ],
   "source": [
    "print(\"========= Program to print mark Sheet=========\")\n",
    "subjects_dictionary = {}\n",
    "fileString = \"\"\n",
    "list_subjects =[]\n",
    "while True :\n",
    "    subject = input(\"Enter subjects name: \")\n",
    "    marks =input(\"Enter Subjects marks: \")\n",
    "    list_subjects.append(subject)\n",
    "    subjects_dictionary[subject] = int(marks)\n",
    "    IsContinue = input(\"Do you want to add more subjects and marks? type yes/no \\n\")\n",
    "    if IsContinue.lower() == \"no\" or (IsContinue.lower() != \"no\" and IsContinue.lower() != \"yes\" ) :\n",
    "        break\n",
    "fileString+= \"\\t \\t \\t*********** MARKSHEET **********\\n\"\n",
    "fileString+= \"\\t \\t \\t================================\"\n",
    "fileString+= \"\\n\\t||\\t SUBJECT \\t ||\" + \"\\t MARKS \\t ||\"\n",
    "for subjects in subjects_dictionary:\n",
    "    fileString+= \"\\n___________________________________________________________________\"\n",
    "    fileString+= \"\\n\\t||\\t {} \\t || \\t {} \\t\".format(subjects.upper(),subjects_dictionary[subjects])\n",
    "    #print(\"\\n||\\t\\t\\t ||\")\n",
    "fileString+= \"\\n___________________________________________________________________\\n\"\n",
    "fileString+= \"\\t \\tPercentage \\t \\t \\t \\t {}%\".format(sum(subjects_dictionary.values()) * 100/(len(subjects_dictionary) *100))\n",
    "fileString+= \"\\n___________________________________________________________________\\n\"\n",
    "print(fileString)\n",
    "f= open(\"MARKSHEET.txt\",\"w+\")\n",
    "f.write(fileString)\n",
    "f.close() "
   ]
  },
  {
   "cell_type": "code",
   "execution_count": null,
   "metadata": {},
   "outputs": [],
   "source": []
  }
 ],
 "metadata": {
  "kernelspec": {
   "display_name": "Python 3",
   "language": "python",
   "name": "python3"
  },
  "language_info": {
   "codemirror_mode": {
    "name": "ipython",
    "version": 3
   },
   "file_extension": ".py",
   "mimetype": "text/x-python",
   "name": "python",
   "nbconvert_exporter": "python",
   "pygments_lexer": "ipython3",
   "version": "3.6.5"
  }
 },
 "nbformat": 4,
 "nbformat_minor": 2
}
