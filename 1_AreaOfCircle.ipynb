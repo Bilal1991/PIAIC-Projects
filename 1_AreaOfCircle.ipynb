{
 "cells": [
  {
   "cell_type": "code",
   "execution_count": 20,
   "metadata": {},
   "outputs": [
    {
     "name": "stdout",
     "output_type": "stream",
     "text": [
      "Input the radius of the circle : d\n",
      "please enter the correct value!\n"
     ]
    }
   ],
   "source": [
    "from math import pi\n",
    "radiusOfCircle = input(\"Input the radius of the circle : \")\n",
    "\n",
    "try:\n",
    "    rad = float(radiusOfCircle)\n",
    "    print(\"Area of Circle with radius \" + str(rad) + \" is: \" + str(pi * rad**2))\n",
    "except ValueError:\n",
    "    print(\"please enter the correct value!\")\n",
    "   "
   ]
  },
  {
   "cell_type": "code",
   "execution_count": null,
   "metadata": {},
   "outputs": [],
   "source": []
  },
  {
   "cell_type": "code",
   "execution_count": null,
   "metadata": {},
   "outputs": [],
   "source": []
  }
 ],
 "metadata": {
  "kernelspec": {
   "display_name": "Python 3",
   "language": "python",
   "name": "python3"
  },
  "language_info": {
   "codemirror_mode": {
    "name": "ipython",
    "version": 3
   },
   "file_extension": ".py",
   "mimetype": "text/x-python",
   "name": "python",
   "nbconvert_exporter": "python",
   "pygments_lexer": "ipython3",
   "version": "3.6.5"
  }
 },
 "nbformat": 4,
 "nbformat_minor": 2
}
