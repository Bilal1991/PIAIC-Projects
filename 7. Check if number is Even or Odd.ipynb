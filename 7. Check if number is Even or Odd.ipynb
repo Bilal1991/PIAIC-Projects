{
 "cells": [
  {
   "cell_type": "code",
   "execution_count": 3,
   "metadata": {},
   "outputs": [
    {
     "name": "stdout",
     "output_type": "stream",
     "text": [
      "Enter number: d\n",
      "please enter the correct value!\n"
     ]
    }
   ],
   "source": [
    "number = input(\"Enter number: \")\n",
    "try:\n",
    "    number = int(number)\n",
    "    if number % 2 == 0:\n",
    "        print(str(number) + \" is Even\" )\n",
    "    else:\n",
    "         print(str(number) + \" is Odd\" )\n",
    "except ValueError:\n",
    "    print(\"please enter the correct value!\")"
   ]
  },
  {
   "cell_type": "code",
   "execution_count": null,
   "metadata": {},
   "outputs": [],
   "source": []
  }
 ],
 "metadata": {
  "kernelspec": {
   "display_name": "Python 3",
   "language": "python",
   "name": "python3"
  },
  "language_info": {
   "codemirror_mode": {
    "name": "ipython",
    "version": 3
   },
   "file_extension": ".py",
   "mimetype": "text/x-python",
   "name": "python",
   "nbconvert_exporter": "python",
   "pygments_lexer": "ipython3",
   "version": "3.6.5"
  }
 },
 "nbformat": 4,
 "nbformat_minor": 2
}
