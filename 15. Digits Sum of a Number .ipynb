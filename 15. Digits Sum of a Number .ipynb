{
 "cells": [
  {
   "cell_type": "code",
   "execution_count": 11,
   "metadata": {},
   "outputs": [
    {
     "name": "stdout",
     "output_type": "stream",
     "text": [
      "Enter number:  1234\n",
      "Sum of 1 + 2 + 3 + 4  is 10\n"
     ]
    }
   ],
   "source": [
    "try:\n",
    "    n = input(\"Enter number:  \")\n",
    "    number = 0;\n",
    "    showString = \"\"\n",
    "    for x in n:\n",
    "        showString+= x +\" + \"\n",
    "        number+= int(x)\n",
    "    print(\"Sum of \" + showString[:len(showString)-2] + \" is \" + str(number))        \n",
    "except ValueError:\n",
    "    print(\"please enter the correct value!\")    "
   ]
  },
  {
   "cell_type": "code",
   "execution_count": null,
   "metadata": {},
   "outputs": [],
   "source": []
  },
  {
   "cell_type": "code",
   "execution_count": null,
   "metadata": {},
   "outputs": [],
   "source": []
  }
 ],
 "metadata": {
  "kernelspec": {
   "display_name": "Python 3",
   "language": "python",
   "name": "python3"
  },
  "language_info": {
   "codemirror_mode": {
    "name": "ipython",
    "version": 3
   },
   "file_extension": ".py",
   "mimetype": "text/x-python",
   "name": "python",
   "nbconvert_exporter": "python",
   "pygments_lexer": "ipython3",
   "version": "3.6.5"
  }
 },
 "nbformat": 4,
 "nbformat_minor": 2
}
