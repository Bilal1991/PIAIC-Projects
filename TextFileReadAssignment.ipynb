{
 "cells": [
  {
   "cell_type": "code",
   "execution_count": 3,
   "metadata": {},
   "outputs": [
    {
     "name": "stdout",
     "output_type": "stream",
     "text": [
      "please enter comma seperated file name: eg; file1.txt,file2.txt \n",
      "MARKSHEET.txt\n",
      "Details of the file MARKSHEET.txt is given below:\n",
      "\n",
      " Spaces 43 \n",
      " tabs 37 \n",
      " lines 15 \n",
      " words 34 \n",
      " non space chracters 570\n",
      "paragraphcount 1 \n",
      "\n"
     ]
    }
   ],
   "source": [
    "import os\n",
    "import sys\n",
    "\n",
    "def insert_line_para_nums(infile):\n",
    "    f = open(infile, 'r')\n",
    "    linecount = 0\n",
    "    paragraphcount = 0\n",
    "    empty = True\n",
    "    for i in f:\n",
    "        if '\\n' in i:\n",
    "            linecount += 1\n",
    "            if len(i) < 2:\n",
    "                empty = True\n",
    "            elif len(i) > 2 and empty is True:\n",
    "                paragraphcount = paragraphcount + 1\n",
    "                empty = False\n",
    "    f.close()\n",
    "    print(\"paragraphcount {} \\n\".format(paragraphcount))\n",
    "\n",
    "\n",
    "def parse_file(path):\n",
    "\n",
    "    fd = open(path,'r')\n",
    "    spaces = tabs = words = num_lines = Total_chracters = special_chracter = 0\n",
    "    lines_in_file = fd.read()\n",
    "    Total_chracters = len(lines_in_file)\n",
    "    words = len(lines_in_file.split())\n",
    "    num_lines = lines_in_file.count('\\n') +1\n",
    "    #print ( \"Number of Words: \", num_lines )\n",
    "    tabs = len(lines_in_file.split('\\t')) -1\n",
    "    spaces = len(lines_in_file.split(' ')) -1\n",
    "    special_chracter = Total_chracters - spaces - tabs\n",
    "    #print ( \"Number of SC: \", special_chracter)\n",
    "    #print ( \"Number of spaces: \", spaces - tabs * 2)\n",
    "    #for i,line in enumerate(fd):\n",
    "        #spaces += line.count(' ')\n",
    "        #tabs += line.count('  ')\n",
    "    #Now close the open file\n",
    "    fd.close()\n",
    "\n",
    "    #Return the result as a tuple\n",
    "    return spaces , tabs,num_lines,words,special_chracter\n",
    "    \n",
    "\n",
    "\n",
    "fileNames = list(input(\"please enter comma seperated file name: eg; file1.txt,file2.txt \\n\").split(','))\n",
    "#print(fileNames)\n",
    "for fileName in fileNames:\n",
    "    if os.path.isfile(fileName) is True:\n",
    "        \n",
    "        spaces, tabs, lines,words,special_chracter = parse_file(fileName)\n",
    "        print(\"Details of the file {} is given below:\".format(fileName))\n",
    "        print (\"\\n Spaces {} \\n tabs {} \\n lines {} \\n words {} \\n non space chracters {}\".format (spaces, tabs, lines,words,special_chracter))\n",
    "        insert_line_para_nums(fileName)    \n",
    "    else :\n",
    "        print(fileName, \"Not exists\")"
   ]
  },
  {
   "cell_type": "code",
   "execution_count": null,
   "metadata": {},
   "outputs": [],
   "source": []
  }
 ],
 "metadata": {
  "kernelspec": {
   "display_name": "Python 3",
   "language": "python",
   "name": "python3"
  },
  "language_info": {
   "codemirror_mode": {
    "name": "ipython",
    "version": 3
   },
   "file_extension": ".py",
   "mimetype": "text/x-python",
   "name": "python",
   "nbconvert_exporter": "python",
   "pygments_lexer": "ipython3",
   "version": "3.6.5"
  }
 },
 "nbformat": 4,
 "nbformat_minor": 2
}
