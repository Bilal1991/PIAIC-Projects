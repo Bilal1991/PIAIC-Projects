{
 "cells": [
  {
   "cell_type": "code",
   "execution_count": null,
   "metadata": {},
   "outputs": [],
   "source": [
    "inputValue = input(\"Enter number: \")\n",
    "\n",
    "try:\n",
    "    number = float(inputValue)\n",
    "    if number >0:\n",
    "        print(\"Positive number Entered\")\n",
    "    elif number <0:\n",
    "        print(\"negative number Entered\")\n",
    "    else:\n",
    "        print(\"zero Enterd\")\n",
    "except ValueError:\n",
    "    print(\"please enter the correct value!\")\n",
    "   "
   ]
  }
 ],
 "metadata": {
  "kernelspec": {
   "display_name": "Python 3",
   "language": "python",
   "name": "python3"
  },
  "language_info": {
   "codemirror_mode": {
    "name": "ipython",
    "version": 3
   },
   "file_extension": ".py",
   "mimetype": "text/x-python",
   "name": "python",
   "nbconvert_exporter": "python",
   "pygments_lexer": "ipython3",
   "version": "3.6.5"
  }
 },
 "nbformat": 4,
 "nbformat_minor": 2
}
