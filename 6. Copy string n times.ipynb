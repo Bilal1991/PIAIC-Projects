{
 "cells": [
  {
   "cell_type": "code",
   "execution_count": 3,
   "metadata": {},
   "outputs": [
    {
     "name": "stdout",
     "output_type": "stream",
     "text": [
      "Enter String: hi\n",
      "How many copies of String you need: 3\n",
      "3 copies of hi are hihihi\n"
     ]
    }
   ],
   "source": [
    "string = input(\"Enter String: \")\n",
    "NoOfCopies = int(input(\"How many copies of String you need: \"))\n",
    "print(str(NoOfCopies) +  \" copies of \" + string + \" are \" + string * NoOfCopies)"
   ]
  },
  {
   "cell_type": "code",
   "execution_count": null,
   "metadata": {},
   "outputs": [],
   "source": []
  }
 ],
 "metadata": {
  "kernelspec": {
   "display_name": "Python 3",
   "language": "python",
   "name": "python3"
  },
  "language_info": {
   "codemirror_mode": {
    "name": "ipython",
    "version": 3
   },
   "file_extension": ".py",
   "mimetype": "text/x-python",
   "name": "python",
   "nbconvert_exporter": "python",
   "pygments_lexer": "ipython3",
   "version": "3.6.5"
  }
 },
 "nbformat": 4,
 "nbformat_minor": 2
}
