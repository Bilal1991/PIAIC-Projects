{
 "cells": [
  {
   "cell_type": "code",
   "execution_count": 20,
   "metadata": {},
   "outputs": [
    {
     "name": "stdout",
     "output_type": "stream",
     "text": [
      "Enter a date in (dd/mm/yy) format:02/02/19\n",
      "Enter a date in (dd/mm/yy) format:06/02/19\n",
      "4\n"
     ]
    }
   ],
   "source": [
    "import datetime\n",
    "\n",
    "FromDateEntry = input(\"Enter a date in (dd/mm/yy) format:\")\n",
    "ToDateEntry = input(\"Enter a date in (dd/mm/yy) format:\")\n",
    "\n",
    "day, month, year = map(int, FromDateEntry.split('/'))\n",
    "dateFrom = datetime.date(year, month, day)\n",
    "day, month, year = map(int, ToDateEntry.split('/'))\n",
    "Todate = datetime.date(year, month, day)\n",
    "differnce = Todate - dateFrom\n",
    "print(differnce.days)\n"
   ]
  },
  {
   "cell_type": "code",
   "execution_count": null,
   "metadata": {},
   "outputs": [],
   "source": []
  }
 ],
 "metadata": {
  "kernelspec": {
   "display_name": "Python 3",
   "language": "python",
   "name": "python3"
  },
  "language_info": {
   "codemirror_mode": {
    "name": "ipython",
    "version": 3
   },
   "file_extension": ".py",
   "mimetype": "text/x-python",
   "name": "python",
   "nbconvert_exporter": "python",
   "pygments_lexer": "ipython3",
   "version": "3.6.5"
  }
 },
 "nbformat": 4,
 "nbformat_minor": 2
}
