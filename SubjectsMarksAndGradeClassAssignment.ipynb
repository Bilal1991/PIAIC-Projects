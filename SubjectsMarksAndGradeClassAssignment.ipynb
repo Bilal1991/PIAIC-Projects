{
 "cells": [
  {
   "cell_type": "code",
   "execution_count": 18,
   "metadata": {},
   "outputs": [
    {
     "name": "stdout",
     "output_type": "stream",
     "text": [
      "marks according to subject:Math : 99  English : 77  Physics : 66  Python : 88  Chinese : 78\n",
      "81.6%\n",
      "A\n"
     ]
    }
   ],
   "source": [
    "tupleSubject = (\"Math\",\"English\",\"Physics\",\"Python\",\"Chinese\")\n",
    "tupleMarks = (99,77,66,88,78)\n",
    "print(\"marks according to subject:\" + tupleSubject[0] +\" : \" +str( tupleMarks[0]) + \"  \" \n",
    "    + tupleSubject[1] +\" : \" + str(tupleMarks[1])\n",
    "    + \"  \"  + tupleSubject[2] + \" : \" + str(tupleMarks[2])\n",
    "    + \"  \" + tupleSubject[3] + \" : \" + str(tupleMarks[3])\n",
    "    + \"  \" + tupleSubject[4] + \" : \" + str(tupleMarks[4]))\n",
    "TotalMarks = 0\n",
    "\n",
    "for x in tupleMarks:\n",
    "    TotalMarks +=x;\n",
    "#print(TotalMarks)    \n",
    "Percentage = (TotalMarks/(len(tupleSubject*100))  )*100  \n",
    "print(str(Percentage) +\"%\")    \n",
    "if Percentage>=90:    \n",
    "    Print(\"A+\")\n",
    "elif Percentage>=80:\n",
    "    print(\"A\")\n",
    "elif Percentage >=70:\n",
    "    print(\"B\")\n",
    "else :\n",
    "    print(\"Failed\")\n",
    "\n"
   ]
  },
  {
   "cell_type": "code",
   "execution_count": null,
   "metadata": {},
   "outputs": [],
   "source": []
  }
 ],
 "metadata": {
  "kernelspec": {
   "display_name": "Python 3",
   "language": "python",
   "name": "python3"
  },
  "language_info": {
   "codemirror_mode": {
    "name": "ipython",
    "version": 3
   },
   "file_extension": ".py",
   "mimetype": "text/x-python",
   "name": "python",
   "nbconvert_exporter": "python",
   "pygments_lexer": "ipython3",
   "version": "3.6.5"
  }
 },
 "nbformat": 4,
 "nbformat_minor": 2
}
