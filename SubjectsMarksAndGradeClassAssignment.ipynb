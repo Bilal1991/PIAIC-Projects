tupleSubject = tuple(input("Please enter comma seperated subjects, eg: Maths,Physics").split(','))
#print(tupleSubject)
#tupleSubject = ("Math","English","Physics","Python","Chinese")
#tupleMarks = (99,77,66,88,78)
tupleMarks = tuple(input("Please enter comma seperated marks, eg: 92,77").split(','))
if len(tupleSubject) != len(tupleMarks):
    print("wrong input")
print("marks according to subject:")
for subject in tupleSubject:
    for marks in tupleMarks:
        print(subject + ": " + marks )
        break
#print("marks according to subject:" + tupleSubject[0] +" : " +str( tupleMarks[0]) + "  " 
#    + tupleSubject[1] +" : " + str(tupleMarks[1])
#    + "  "  + tupleSubject[2] + " : " + str(tupleMarks[2])
#    + "  " + tupleSubject[3] + " : " + str(tupleMarks[3])
#    + "  " + tupleSubject[4] + " : " + str(tupleMarks[4]))
TotalMarks = 0

for x in tupleMarks:
    TotalMarks +=float(x)
#print(TotalMarks)    
Percentage = (TotalMarks/(len(tupleSubject*100))  )*100  
print(str(Percentage) +"%")    
if Percentage>=90:    
    print("A+")
elif Percentage>=80 and Percentage <90:
    print("A")
elif Percentage >=70 and Percentage <80:
    print("B")
else :
    print("Failed")

