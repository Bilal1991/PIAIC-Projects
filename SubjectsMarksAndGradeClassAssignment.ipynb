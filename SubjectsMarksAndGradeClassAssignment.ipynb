{
 "cells": [
  {
   "cell_type": "code",
   "execution_count": 4,
   "metadata": {},
   "outputs": [
    {
     "name": "stdout",
     "output_type": "stream",
     "text": [
      "Please enter comma seperated subjects, eg: Maths,PhysicsMaths,Physics\n",
      "Please enter comma seperated marks, eg: 92,7799,88\n",
      "marks according to subject:\n",
      "Maths: 99\n",
      "Physics: 99\n",
      "93.5%\n",
      "A+\n"
     ]
    }
   ],
   "source": [
    "tupleSubject = tuple(input(\"Please enter comma seperated subjects, eg: Maths,Physics\").split(','))\n",
    "#print(tupleSubject)\n",
    "#tupleSubject = (\"Math\",\"English\",\"Physics\",\"Python\",\"Chinese\")\n",
    "#tupleMarks = (99,77,66,88,78)\n",
    "tupleMarks = tuple(input(\"Please enter comma seperated marks, eg: 92,77\").split(','))\n",
    "if len(tupleSubject) != len(tupleMarks):\n",
    "    print(\"wrong input\")\n",
    "print(\"marks according to subject:\")\n",
    "for subject in tupleSubject:\n",
    "    for marks in tupleMarks:\n",
    "        print(subject + \": \" + marks )\n",
    "        break\n",
    "#print(\"marks according to subject:\" + tupleSubject[0] +\" : \" +str( tupleMarks[0]) + \"  \" \n",
    "#    + tupleSubject[1] +\" : \" + str(tupleMarks[1])\n",
    "#    + \"  \"  + tupleSubject[2] + \" : \" + str(tupleMarks[2])\n",
    "#    + \"  \" + tupleSubject[3] + \" : \" + str(tupleMarks[3])\n",
    "#    + \"  \" + tupleSubject[4] + \" : \" + str(tupleMarks[4]))\n",
    "TotalMarks = 0\n",
    "\n",
    "for x in tupleMarks:\n",
    "    TotalMarks +=float(x)\n",
    "#print(TotalMarks)    \n",
    "Percentage = (TotalMarks/(len(tupleSubject*100))  )*100  \n",
    "print(str(Percentage) +\"%\")    \n",
    "if Percentage>=90:    \n",
    "    print(\"A+\")\n",
    "elif Percentage>=80 and Percentage <90:\n",
    "    print(\"A\")\n",
    "elif Percentage >=70 and Percentage <80:\n",
    "    print(\"B\")\n",
    "else :\n",
    "    print(\"Failed\")\n",
    "\n"
   ]
  },
  {
   "cell_type": "code",
   "execution_count": 22,
   "metadata": {},
   "outputs": [],
   "source": [
    "a = []"
   ]
  },
  {
   "cell_type": "code",
   "execution_count": 24,
   "metadata": {},
   "outputs": [],
   "source": [
    "a.append(\"ddaa\")"
   ]
  },
  {
   "cell_type": "code",
   "execution_count": null,
   "metadata": {},
   "outputs": [],
   "source": [
    "a"
   ]
  }
 ],
 "metadata": {
  "kernelspec": {
   "display_name": "Python 3",
   "language": "python",
   "name": "python3"
  },
  "language_info": {
   "codemirror_mode": {
    "name": "ipython",
    "version": 3
   },
   "file_extension": ".py",
   "mimetype": "text/x-python",
   "name": "python",
   "nbconvert_exporter": "python",
   "pygments_lexer": "ipython3",
   "version": "3.6.5"
  }
 },
 "nbformat": 4,
 "nbformat_minor": 2
}
