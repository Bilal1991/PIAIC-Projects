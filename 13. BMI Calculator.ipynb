{
 "cells": [
  {
   "cell_type": "code",
   "execution_count": 1,
   "metadata": {},
   "outputs": [
    {
     "name": "stdout",
     "output_type": "stream",
     "text": [
      "Enter Height in cm: 188\n",
      "Enter Weight in Kg: 77\n",
      "Your BMI is21.785875961973744\n"
     ]
    }
   ],
   "source": [
    "try:\n",
    "    Height = float(input(\"Enter Height in cm: \"))/100\n",
    "    Weight = float(input(\"Enter Weight in Kg: \"))\n",
    "    print(\"Your BMI is \" + str(Weight / Height**2))\n",
    "except ValueError:\n",
    "    print(\"please enter the correct value!\")"
   ]
  },
  {
   "cell_type": "code",
   "execution_count": null,
   "metadata": {},
   "outputs": [],
   "source": []
  }
 ],
 "metadata": {
  "kernelspec": {
   "display_name": "Python 3",
   "language": "python",
   "name": "python3"
  },
  "language_info": {
   "codemirror_mode": {
    "name": "ipython",
    "version": 3
   },
   "file_extension": ".py",
   "mimetype": "text/x-python",
   "name": "python",
   "nbconvert_exporter": "python",
   "pygments_lexer": "ipython3",
   "version": "3.6.5"
  }
 },
 "nbformat": 4,
 "nbformat_minor": 2
}
