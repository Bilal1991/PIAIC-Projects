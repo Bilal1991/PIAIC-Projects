{
 "cells": [
  {
   "cell_type": "code",
   "execution_count": 1,
   "metadata": {},
   "outputs": [
    {
     "name": "stdout",
     "output_type": "stream",
     "text": [
      "Enter Radius of Sphere: 1\n",
      "Volume of Sphere with radius 1.0 is: 4.1887902047863905\n"
     ]
    }
   ],
   "source": [
    "from math import pi\n",
    "radiusOfSphere = input(\"Enter Radius of Sphere: \")\n",
    "\n",
    "try:\n",
    "    rad = float(radiusOfSphere)\n",
    "    print(\"Volume of Sphere with radius \" + str(rad) + \" is: \" + str(4/3 * pi * rad**3))\n",
    "except ValueError:\n",
    "    print(\"please enter the correct value!\")\n",
    "   "
   ]
  },
  {
   "cell_type": "code",
   "execution_count": null,
   "metadata": {},
   "outputs": [],
   "source": []
  }
 ],
 "metadata": {
  "kernelspec": {
   "display_name": "Python 3",
   "language": "python",
   "name": "python3"
  },
  "language_info": {
   "codemirror_mode": {
    "name": "ipython",
    "version": 3
   },
   "file_extension": ".py",
   "mimetype": "text/x-python",
   "name": "python",
   "nbconvert_exporter": "python",
   "pygments_lexer": "ipython3",
   "version": "3.6.5"
  }
 },
 "nbformat": 4,
 "nbformat_minor": 2
}
