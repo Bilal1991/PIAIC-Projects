{
 "cells": [
  {
   "cell_type": "code",
   "execution_count": 2,
   "metadata": {},
   "outputs": [
    {
     "name": "stdout",
     "output_type": "stream",
     "text": [
      "Enter Co-ordinate for x1: 2\n",
      "Enter Co-ordinate for x2: 4\n",
      "Enter Co-ordinate for y1: 4\n",
      "Enter Co-ordinate for y2: 4\n",
      "Distance between points (2.0,4.0) and (4.0,4.0) is 2.0\n"
     ]
    }
   ],
   "source": [
    "import math\n",
    "try:\n",
    "    x1 = float(input(\"Enter Co-ordinate for x1: \"))\n",
    "    x2 = float(input(\"Enter Co-ordinate for x2: \"))\n",
    "    y1 = float(input(\"Enter Co-ordinate for y1: \"))\n",
    "    y2 = float(input(\"Enter Co-ordinate for y2: \"))\n",
    "    distance =  math.sqrt( ((x1-x2)**2)+((y1-y2)**2) )\n",
    "    print(\"Distance between points (\" + str(x1) + \",\" + str(y1) + \") and (\" + str(x2) + \",\" + str(y2) + \") is \"\n",
    "          + str(distance)) \n",
    "except ValueError:\n",
    "    print(\"please enter the correct value!\")"
   ]
  },
  {
   "cell_type": "code",
   "execution_count": null,
   "metadata": {},
   "outputs": [],
   "source": []
  }
 ],
 "metadata": {
  "kernelspec": {
   "display_name": "Python 3",
   "language": "python",
   "name": "python3"
  },
  "language_info": {
   "codemirror_mode": {
    "name": "ipython",
    "version": 3
   },
   "file_extension": ".py",
   "mimetype": "text/x-python",
   "name": "python",
   "nbconvert_exporter": "python",
   "pygments_lexer": "ipython3",
   "version": "3.6.5"
  }
 },
 "nbformat": 4,
 "nbformat_minor": 2
}
